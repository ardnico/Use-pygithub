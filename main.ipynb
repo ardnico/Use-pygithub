{
 "cells": [
  {
   "cell_type": "code",
   "execution_count": 1,
   "metadata": {},
   "outputs": [],
   "source": [
    "#ref\n",
    "# https://pygithub.readthedocs.io/en/latest/github_objects/Organization.html"
   ]
  },
  {
   "cell_type": "code",
   "execution_count": 2,
   "metadata": {},
   "outputs": [],
   "source": [
    "import enc as ec\n",
    "import os\n",
    "from getpass import getpass"
   ]
  },
  {
   "cell_type": "code",
   "execution_count": 3,
   "metadata": {},
   "outputs": [
    {
     "name": "stdout",
     "output_type": "stream",
     "text": [
      "Set: 5\n"
     ]
    }
   ],
   "source": [
    "\n",
    "enc = ec.Enc(5)\n",
    "os.makedirs(\"data\",exist_ok=True)\n",
    "if os.path.exists(r\"data\\token\"):\n",
    "    with open(r\"data/token\",mode=\"r\") as f:\n",
    "        tmp_key = f.read()\n",
    "    token = enc.dec(tmp_key)\n",
    "else:\n",
    "    token = getpass(\"please input Github Token:\")\n",
    "    tmp_key = enc.enc(token)\n",
    "    with open(r\"data/token\",mode=\"w\") as f:\n",
    "        f.write(tmp_key)\n"
   ]
  },
  {
   "cell_type": "code",
   "execution_count": 4,
   "metadata": {},
   "outputs": [],
   "source": [
    "from github import Github as gh\n"
   ]
  },
  {
   "cell_type": "code",
   "execution_count": 5,
   "metadata": {},
   "outputs": [],
   "source": [
    "organization_name = \"nico-niko\"\n",
    "g = gh(token)\n",
    "orga = g.get_organization(organization_name)"
   ]
  },
  {
   "cell_type": "code",
   "execution_count": 6,
   "metadata": {},
   "outputs": [],
   "source": [
    "# Organizationのデータ出力\n",
    "for i in orga.get_repos():\n",
    "    with open(f\"repository_{organization_name}.log\",mode=\"w\") as f:\n",
    "        tmp_text = str(orga.raw_data).replace(\",\",\",\\n\")\n",
    "        f.write(tmp_text)\n",
    "    "
   ]
  },
  {
   "cell_type": "code",
   "execution_count": 7,
   "metadata": {},
   "outputs": [],
   "source": []
  },
  {
   "cell_type": "code",
   "execution_count": 11,
   "metadata": {},
   "outputs": [],
   "source": [
    "# Github上のすべての情報をとってきてしまうため要フィルター\n",
    "reps = g.get_repos(\"\")\n",
    "for i in reps:\n",
    "    name = i.full_name.replace(\"\\\\\",\"_\")\n",
    "    with open(f\"repository_{name}.log\",mode=\"w\") as f:\n",
    "        tmp_text = i.raw_data.replace(\",\",\",\\n\")\n",
    "        f.write(tmp_text)"
   ]
  },
  {
   "cell_type": "code",
   "execution_count": 15,
   "metadata": {},
   "outputs": [
    {
     "name": "stdout",
     "output_type": "stream",
     "text": [
      "NamedUser(login=\"ardnico\")\n"
     ]
    }
   ],
   "source": [
    "for i in orga.get_members(filter_=\"\"):\n",
    "    print(i)"
   ]
  },
  {
   "cell_type": "code",
   "execution_count": 11,
   "metadata": {},
   "outputs": [
    {
     "data": {
      "text/plain": [
       "<github.PaginatedList.PaginatedList at 0x264ba764880>"
      ]
     },
     "execution_count": 11,
     "metadata": {},
     "output_type": "execute_result"
    }
   ],
   "source": [
    "g.get_user().get_repos(type='owner')"
   ]
  },
  {
   "cell_type": "code",
   "execution_count": 12,
   "metadata": {},
   "outputs": [
    {
     "name": "stdout",
     "output_type": "stream",
     "text": [
      "acli\n",
      "codes_storagehouse\n",
      "CV\n",
      "One_draw\n",
      "other\n",
      "powershell_loglotation\n",
      "react-practice\n",
      "TestWebApps\n",
      "Use-pygithub\n"
     ]
    }
   ],
   "source": [
    "for repo in g.get_user().get_repos(type='owner'):\n",
    "    print(repo.name)"
   ]
  },
  {
   "cell_type": "code",
   "execution_count": 16,
   "metadata": {},
   "outputs": [
    {
     "data": {
      "text/plain": [
       "Repository(full_name=\"nico-niko/api_create\")"
      ]
     },
     "execution_count": 16,
     "metadata": {},
     "output_type": "execute_result"
    }
   ],
   "source": [
    "orga.create_repo(\"api_create\",\n",
    "                 allow_merge_commit=True,private=True\n",
    "                 \n",
    "                 )"
   ]
  },
  {
   "cell_type": "code",
   "execution_count": null,
   "metadata": {},
   "outputs": [],
   "source": []
  }
 ],
 "metadata": {
  "interpreter": {
   "hash": "2be5faf79681da6f2a61fdfdd5405d65d042280f7fba6178067603e3a2925119"
  },
  "kernelspec": {
   "display_name": "Python 3.10.0 64-bit",
   "language": "python",
   "name": "python3"
  },
  "language_info": {
   "codemirror_mode": {
    "name": "ipython",
    "version": 3
   },
   "file_extension": ".py",
   "mimetype": "text/x-python",
   "name": "python",
   "nbconvert_exporter": "python",
   "pygments_lexer": "ipython3",
   "version": "3.10.0"
  },
  "orig_nbformat": 4
 },
 "nbformat": 4,
 "nbformat_minor": 2
}
